{
 "cells": [
  {
   "cell_type": "code",
   "execution_count": 1,
   "id": "cfc8cc46",
   "metadata": {},
   "outputs": [],
   "source": [
    "import pandas as pd\n",
    "import ast"
   ]
  },
  {
   "cell_type": "code",
   "execution_count": 57,
   "id": "6d92be6c",
   "metadata": {},
   "outputs": [
    {
     "data": {
      "text/html": [
       "<div>\n",
       "<style scoped>\n",
       "    .dataframe tbody tr th:only-of-type {\n",
       "        vertical-align: middle;\n",
       "    }\n",
       "\n",
       "    .dataframe tbody tr th {\n",
       "        vertical-align: top;\n",
       "    }\n",
       "\n",
       "    .dataframe thead th {\n",
       "        text-align: right;\n",
       "    }\n",
       "</style>\n",
       "<table border=\"1\" class=\"dataframe\">\n",
       "  <thead>\n",
       "    <tr style=\"text-align: right;\">\n",
       "      <th></th>\n",
       "      <th>Variables</th>\n",
       "      <th>Similar_variables</th>\n",
       "    </tr>\n",
       "  </thead>\n",
       "  <tbody>\n",
       "    <tr>\n",
       "      <th>0</th>\n",
       "      <td>adv20</td>\n",
       "      <td>['volume', 'news_curr_vol', 'news_close_vol', ...</td>\n",
       "    </tr>\n",
       "    <tr>\n",
       "      <th>1</th>\n",
       "      <td>anl4_adjusted_netincome_ft</td>\n",
       "      <td>['anl4_epsa_flag', 'anl4_ffo_flag', 'anl4_flag...</td>\n",
       "    </tr>\n",
       "    <tr>\n",
       "      <th>2</th>\n",
       "      <td>anl4_bac1conafv110_item</td>\n",
       "      <td>['anl4_bac1conltv110_item', 'anl4_bac1conqfv11...</td>\n",
       "    </tr>\n",
       "    <tr>\n",
       "      <th>3</th>\n",
       "      <td>anl4_bac1conltv110_item</td>\n",
       "      <td>['anl4_bac1conafv110_item', 'anl4_bac1conqfv11...</td>\n",
       "    </tr>\n",
       "    <tr>\n",
       "      <th>4</th>\n",
       "      <td>anl4_bac1conqfv110_item</td>\n",
       "      <td>['anl4_bac1conafv110_item', 'anl4_bac1conltv11...</td>\n",
       "    </tr>\n",
       "  </tbody>\n",
       "</table>\n",
       "</div>"
      ],
      "text/plain": [
       "                    Variables  \\\n",
       "0                       adv20   \n",
       "1  anl4_adjusted_netincome_ft   \n",
       "2     anl4_bac1conafv110_item   \n",
       "3     anl4_bac1conltv110_item   \n",
       "4     anl4_bac1conqfv110_item   \n",
       "\n",
       "                                   Similar_variables  \n",
       "0  ['volume', 'news_curr_vol', 'news_close_vol', ...  \n",
       "1  ['anl4_epsa_flag', 'anl4_ffo_flag', 'anl4_flag...  \n",
       "2  ['anl4_bac1conltv110_item', 'anl4_bac1conqfv11...  \n",
       "3  ['anl4_bac1conafv110_item', 'anl4_bac1conqfv11...  \n",
       "4  ['anl4_bac1conafv110_item', 'anl4_bac1conltv11...  "
      ]
     },
     "execution_count": 57,
     "metadata": {},
     "output_type": "execute_result"
    }
   ],
   "source": [
    "#đọc tài liệu\n",
    "similar_data=pd.read_excel('D:/Project/Project 09 - finding alpha/Auto_alpha/similar/results.xlsx')\n",
    "similar_data.head()"
   ]
  },
  {
   "cell_type": "code",
   "execution_count": 58,
   "id": "91b4a139",
   "metadata": {},
   "outputs": [
    {
     "data": {
      "text/html": [
       "<div>\n",
       "<style scoped>\n",
       "    .dataframe tbody tr th:only-of-type {\n",
       "        vertical-align: middle;\n",
       "    }\n",
       "\n",
       "    .dataframe tbody tr th {\n",
       "        vertical-align: top;\n",
       "    }\n",
       "\n",
       "    .dataframe thead th {\n",
       "        text-align: right;\n",
       "    }\n",
       "</style>\n",
       "<table border=\"1\" class=\"dataframe\">\n",
       "  <thead>\n",
       "    <tr style=\"text-align: right;\">\n",
       "      <th></th>\n",
       "      <th>Variables</th>\n",
       "      <th>Similar_variables</th>\n",
       "    </tr>\n",
       "  </thead>\n",
       "  <tbody>\n",
       "    <tr>\n",
       "      <th>0</th>\n",
       "      <td>adv20</td>\n",
       "      <td>[volume, news_curr_vol, news_close_vol, news_m...</td>\n",
       "    </tr>\n",
       "    <tr>\n",
       "      <th>1</th>\n",
       "      <td>anl4_adjusted_netincome_ft</td>\n",
       "      <td>[anl4_epsa_flag, anl4_ffo_flag, anl4_flag_erbf...</td>\n",
       "    </tr>\n",
       "    <tr>\n",
       "      <th>2</th>\n",
       "      <td>anl4_bac1conafv110_item</td>\n",
       "      <td>[anl4_bac1conltv110_item, anl4_bac1conqfv110_i...</td>\n",
       "    </tr>\n",
       "    <tr>\n",
       "      <th>3</th>\n",
       "      <td>anl4_bac1conltv110_item</td>\n",
       "      <td>[anl4_bac1conafv110_item, anl4_bac1conqfv110_i...</td>\n",
       "    </tr>\n",
       "    <tr>\n",
       "      <th>4</th>\n",
       "      <td>anl4_bac1conqfv110_item</td>\n",
       "      <td>[anl4_bac1conafv110_item, anl4_bac1conltv110_i...</td>\n",
       "    </tr>\n",
       "  </tbody>\n",
       "</table>\n",
       "</div>"
      ],
      "text/plain": [
       "                    Variables  \\\n",
       "0                       adv20   \n",
       "1  anl4_adjusted_netincome_ft   \n",
       "2     anl4_bac1conafv110_item   \n",
       "3     anl4_bac1conltv110_item   \n",
       "4     anl4_bac1conqfv110_item   \n",
       "\n",
       "                                   Similar_variables  \n",
       "0  [volume, news_curr_vol, news_close_vol, news_m...  \n",
       "1  [anl4_epsa_flag, anl4_ffo_flag, anl4_flag_erbf...  \n",
       "2  [anl4_bac1conltv110_item, anl4_bac1conqfv110_i...  \n",
       "3  [anl4_bac1conafv110_item, anl4_bac1conqfv110_i...  \n",
       "4  [anl4_bac1conafv110_item, anl4_bac1conltv110_i...  "
      ]
     },
     "execution_count": 58,
     "metadata": {},
     "output_type": "execute_result"
    }
   ],
   "source": [
    "#loại bỏ vec_avg\n",
    "##loại bỏ ở variables\n",
    "similar_data['Variables']=similar_data['Variables'].apply(lambda row : row.replace('vec_avg(','').replace(')',''))\n",
    "##loại bỏ ở similar_variables\n",
    "similar_data['Similar_variables'] = similar_data['Similar_variables'].apply(ast.literal_eval) #Chuyển chuỗi dạng list thành list thực sự\n",
    "similar_data['Similar_variables']=similar_data['Similar_variables'].apply(\n",
    "    lambda row: [var.replace('vec_avg(', '').replace(')', '') for var in row]\n",
    ")\n",
    "similar_data.head()"
   ]
  },
  {
   "cell_type": "code",
   "execution_count": 62,
   "id": "e5d715bd",
   "metadata": {},
   "outputs": [
    {
     "data": {
      "text/html": [
       "<div>\n",
       "<style scoped>\n",
       "    .dataframe tbody tr th:only-of-type {\n",
       "        vertical-align: middle;\n",
       "    }\n",
       "\n",
       "    .dataframe tbody tr th {\n",
       "        vertical-align: top;\n",
       "    }\n",
       "\n",
       "    .dataframe thead th {\n",
       "        text-align: right;\n",
       "    }\n",
       "</style>\n",
       "<table border=\"1\" class=\"dataframe\">\n",
       "  <thead>\n",
       "    <tr style=\"text-align: right;\">\n",
       "      <th></th>\n",
       "      <th>Variables</th>\n",
       "      <th>Similar_variables</th>\n",
       "      <th>full</th>\n",
       "    </tr>\n",
       "  </thead>\n",
       "  <tbody>\n",
       "    <tr>\n",
       "      <th>0</th>\n",
       "      <td>adv20</td>\n",
       "      <td>[volume, news_curr_vol, news_close_vol, news_m...</td>\n",
       "      <td>[volume, news_curr_vol, news_close_vol, news_m...</td>\n",
       "    </tr>\n",
       "    <tr>\n",
       "      <th>1</th>\n",
       "      <td>anl4_adjusted_netincome_ft</td>\n",
       "      <td>[anl4_epsa_flag, anl4_ffo_flag, anl4_flag_erbf...</td>\n",
       "      <td>[anl4_epsa_flag, anl4_ffo_flag, anl4_flag_erbf...</td>\n",
       "    </tr>\n",
       "    <tr>\n",
       "      <th>2</th>\n",
       "      <td>anl4_bac1conafv110_item</td>\n",
       "      <td>[anl4_bac1conltv110_item, anl4_bac1conqfv110_i...</td>\n",
       "      <td>[anl4_bac1conltv110_item, anl4_bac1conqfv110_i...</td>\n",
       "    </tr>\n",
       "    <tr>\n",
       "      <th>3</th>\n",
       "      <td>anl4_bac1conltv110_item</td>\n",
       "      <td>[anl4_bac1conafv110_item, anl4_bac1conqfv110_i...</td>\n",
       "      <td>[anl4_bac1conafv110_item, anl4_bac1conqfv110_i...</td>\n",
       "    </tr>\n",
       "    <tr>\n",
       "      <th>4</th>\n",
       "      <td>anl4_bac1conqfv110_item</td>\n",
       "      <td>[anl4_bac1conafv110_item, anl4_bac1conltv110_i...</td>\n",
       "      <td>[anl4_bac1conafv110_item, anl4_bac1conltv110_i...</td>\n",
       "    </tr>\n",
       "  </tbody>\n",
       "</table>\n",
       "</div>"
      ],
      "text/plain": [
       "                    Variables  \\\n",
       "0                       adv20   \n",
       "1  anl4_adjusted_netincome_ft   \n",
       "2     anl4_bac1conafv110_item   \n",
       "3     anl4_bac1conltv110_item   \n",
       "4     anl4_bac1conqfv110_item   \n",
       "\n",
       "                                   Similar_variables  \\\n",
       "0  [volume, news_curr_vol, news_close_vol, news_m...   \n",
       "1  [anl4_epsa_flag, anl4_ffo_flag, anl4_flag_erbf...   \n",
       "2  [anl4_bac1conltv110_item, anl4_bac1conqfv110_i...   \n",
       "3  [anl4_bac1conafv110_item, anl4_bac1conqfv110_i...   \n",
       "4  [anl4_bac1conafv110_item, anl4_bac1conltv110_i...   \n",
       "\n",
       "                                                full  \n",
       "0  [volume, news_curr_vol, news_close_vol, news_m...  \n",
       "1  [anl4_epsa_flag, anl4_ffo_flag, anl4_flag_erbf...  \n",
       "2  [anl4_bac1conltv110_item, anl4_bac1conqfv110_i...  \n",
       "3  [anl4_bac1conafv110_item, anl4_bac1conqfv110_i...  \n",
       "4  [anl4_bac1conafv110_item, anl4_bac1conltv110_i...  "
      ]
     },
     "execution_count": 62,
     "metadata": {},
     "output_type": "execute_result"
    }
   ],
   "source": [
    "#tạo cột mới chứa toàn bộ biến\n",
    "similar_data['full']=similar_data.apply(lambda row: row['Similar_variables']+[row['Variables']],axis=1)\n",
    "similar_data.head()"
   ]
  },
  {
   "cell_type": "code",
   "execution_count": 63,
   "id": "55e007c7",
   "metadata": {},
   "outputs": [
    {
     "name": "stdout",
     "output_type": "stream",
     "text": [
      "['dfdlocalitxexp', 'pv13_3l_scibr', 'anl4_dei2laf_item', 'fnd6_rea', 'fnd2_propplteqmuflmameqmt', 'fnd6_debt_st', 'fnd2_dfctrbplancstrg', 'fnd6_dltr', 'fnd2_oprlsfmpdcurr', 'est_sales', 'anl4_dei3lafv110_item', 'fnd6_prchq', 'fnd6_dps', 'fnd6_loxdr', 'anl4_guiqfv4_est', 'mdl77_priceanalystmodel2_qpa_composite', 'mdl77_monchgsip', 'est_bookvalue_ps', 'fnd6_invfg', 'news_high_exc_stddev', 'fnd6_obs', 'fnd6_exchange', 'fixastto', 'anl4_cuo1detailqfv110_item', 'fnd6_ivao', 'netincome', 'fnd6_lol2', 'mdl77_chgreccast', 'fnd6_xints', 'mdl77_pricemomemtummodel2_indrelrtn5d_', 'anl4_mark', 'fnd2_currstatelocaltxexp', 'fnd6_txds', 'interest_income', 'txc', 'liabilities', 'news_main_vwap', 'fnd6_txdi', 'mdl77_si_av_amv', 'fnd6_ias', 'est_epsa', 'pv13_percentregion', 'mdl77_valueanalystmodelccaghc_avq', 'adesinda_curcd', 'mdl77_min1ygrossmargin', 'fnd6_aodo', 'fnd6_oprepsx', 'mdl77_min3yopmargin', 'mdl77_pfcfy3ghc', 'exchange', 'fnd6_ebitda', 'mdl77_cashsev', 'fnd6_spiv', 'fnd6_txdfo', 'est_ebit', 'mdl77_astto', 'mdl77_mrspe_cf', 'fnd2_fn_unrecognized_tax_benefits_a', 'fnd6_tfva', 'dps', 'fnd6_cogss', 'news_dividend_yield', 'nws18_ghc_lna', 'fnd6_ivch', 'fnd6_ppents', 'ebit', 'mdl77_2ee_am_amv', 'anl4_buy', 'fnd6_lcox', 'fnd6_ds', 'fnd6_dltis', 'fnd6_ivaeqs', 'mdl77_2cusip_sedol', 'fnd6_txtubtxtr', 'fnd6_chgnoa', 'fnd6_aox', 'anl4_bac1conqfv110_item', 'fnd6_rectr', 'sga_expense', 'fnd6_aqs', 'acqgdwl', 'ceql', 'enterprise_value', 'mdl77_2spe1yfvc_cf', 'fnd6_pncdq', 'anl4_norec', 'fnd6_pifo', 'grossincome', 'adv20', 'quick_ratio', 'fnd6_iints', 'fnd6_intpn', 'snms', 'split', 'currstatelocaltxexp', 'mdl77_2adverint', 'fnd6_recd', 'pv13_5l_scibr', 'fnd6_eps', 'cash', 'fnd6_txtubend', 'fnd6_fate', 'ch', 'subindustry', 'est_netdebt', 'mdl77_aspanratio', 'fnd6_esopr', 'mdl77_altmanz', 'fnd6_txndb', 'fnd6_siv', 'fnd6_dvpa', 'mdl77_flowratio', 'netdebt', 'news_close_vol', 'fscore_growth', 'cstkcvq', 'fnd6_optosby', 'fnd6_ivstch', 'est_grossincome', 'fnd6_xintopt', 'caxts', 'fnd6_ein', 'fnd6_dxd3', 'sse', 'fnd6_fic', 'fnd6_mrc4', 'pv13_1l_scibr', 'fnd6_cshrq', 'fnd6_txc', 'fnd2_unrgtxbnfrdsrefpstf', 'fnd6_ch', 'anl4_erbfintax', 'market_value', 'fnd6_nxints', 'fnd2_propplteqmuflmamfrt', 'mdl77_fc_y2repsg', 'nws18_nip', 'fnd6_msa', 'fscore_value', 'fnd6_txr', 'fnd6_aldo', 'fnd6_caxts', 'fnd6_lifr', 'mibt', 'mkvaltq', 'fnd6_cshpri', 'mdl77_fixastto', 'revenue', 'fnd6_rds', 'txdi', 'fnd2_ebitfr', 'txndba', 'fnd6_mrcta', 'fnd6_revenue', 'nws18_ber', 'yoychggpm', 'mdl77_managementsignalingmodule', 'mdl77_min1yopmargin', 'returns', 'cusip', 'fnd6_optprcwa', 'mdl77_ocfratio', 'fnd6_mkvalt', 'fnd6_pstkl', 'pv13_rcsed_6l', 'mdl77_rel5yfwdep', 'fnd6_prch', 'txo', 'fnd6_fatc', 'fnd6_lqpl1', 'fnd6_pidom', 'news_pe_ratio', 'fnd2_dbplanepdfbnfp5ytherea', 'mdl77_2growthanalystmodel2_qga_ltepssurprise', 'fnd6_acodo', 'fnd6_optlife', 'mdl77_2si_av_amv', 'debt_st', 'txfo', 'mdl77_nnastp', 'dfdfritxexp', 'anl4_under', 'fnd6_chgsgasale', 'fnd6_oibdps', 'mdl77_voldiff_pc', 'fnd2_dfdtxastxdfdexpcompbnf', 'idesindq_curcd', 'pv13_2l_scibr', 'est_netincome', 'txndbl', 'intan', 'fnd6_ptif', 'fnd6_dxd4', 'anl4_bac1conltv110_item', 'capxv', 'fnd6_dclo', 'fnd6_state', 'fnd6_ivaco', 'fnd6_txtubxintbs', 'top200', 'mdl77_totalcov', 'mdl77_rel5ycoreepsp', 'epsa', 'fnd6_txtubsettle', 'investment_capital', 'fnd6_mpnghc', 'topsp500', 'relevance', 'fnd6_snms', 'fnd6_txw', 'cshtrq', 'news_vol_stddev', 'fnd6_drc', 'fnd6_npq', 'fnd6_epsa', 'ppent', 'mdl77_2rel5yebitdap', 'mdl77_2ccacw', 'fnd6_invwip', 'fnd6_cshtrq', 'fnd2_itxreclnondeductibleexp', 'nws18_qep', 'fnd6_mkvaltq', 'industry', 'fnd6_mrct', 'fnd6_optprcex', 'fnd6_optdr', 'mdl77_2qe_av_amv', 'fnd6_ivaeq', 'fnd6_ibmii', 'fnd6_cashflow_dividends', 'mdl77_2capdistp', 'ratio_vol', 'ptis', 'fn_mne_a', 'fnd2_unrgtxbnfdcfpprdtxpss', 'fnd2_dbplanartonplas', 'fnd6_spis', 'mdl77_gspea2y_cf', 'fnd6_dxd5', 'anl4_medianepsbfam', 'dpvieb', 'nws18_acb', 'pv13_region', 'fnd6_aqc', 'anl4_qfd1_azeps', 'cashflow', 'fnd6_idesindq_curcd', 'fnd6_alo', 'return_assets', 'optvol', 'cogs', 'aqc', 'fnd2_propplteqmuflmeqmt', 'fnd2_unrgtxbnfinregfcrps', 'income_beforeextra', 'fnd6_gpm', 'fnd6_liabilities', 'epsa_flag', 'low', 'market', 'fnd6_cstkcv', 'fnd6_txtubpospdec', 'fnd6_dc', 'anl4_dei3lrec_item', 'fnd2_sbcpnshardpreops', 'fnd2_unremittedfrer', 'cap', 'fnd6_txtubpospinc', 'anl4_fsdtlestmtbscqv104_item', 'fnd2_dfdfeditxexp', 'fnd6_chq', 'receivable', 'anl4_epsa_flag', 'prcc', 'cashflow_dividends', 'fnd6_lul3', 'fnd6_acdo', 'mdl77_min2yopmargin', 'fnd6_cashflow', 'fnd6_sga', 'close', 'fnd6_dxd2', 'mdl77_2dvm_composite', 'anl4_bac1conafv110_item', 'news_ls', 'anl4_total_rec', 'mdl77_2priceanalystmodel2_qpa_composite', 'mdl77_2exdisspi', 'fnd6_spce', 'pv13_reveremap', 'fnd6_drlt', 'fnd6_currency', 'fnd6_txdc', 'mdl77_2gf_am_amv', 'currencya_curcd', 'fnd6_prccq', 'am', 'fnd6_cld4', 'mdl77_optvol', 'tbv_ps', 'mdl77_2gspea2y_cf', 'fnd6_dvrated', 'fnd6_txpd', 'fscore_total', 'fnd6_fcfy3ghc', 'employee', 'txndb', 'fnd6_txdbcl', 'mdl77_mpnghc', 'anl4_bac1detaillt_item', 'fnd6_niadj', 'scl12_sentiment', 'revts', 'fnd6_debt', 'fnd6_cik', 'mdl77_min3ygrossmargin', 'lifr', 'fnd6_aqi', 'mdl77_2rel5yfwdep', 'fnd6_income_tax', 'fnd2_dfdtxastxcrcarryfwd', 'mdl77_investorsentimentmodule', 'est_ptp', 'fnd2_dbplanamtsrginblsh', 'fnd6_cibegni', 'fnd6_prcc', 'cash_st', 'sector', 'anl4_bac1detailrec_item', 'mdl77_capacq', 'sics', 'fnd6_cidergl', 'fnd6_dcvsub', 'txbcof', 'aqs', 'mdl77_2rel5yfcfp', 'anl4_cuo1conafv110_item', 'fnd6_txws', 'mdl77_valueanalystmodeltmtscni_avq', 'fnd6_txfo', 'mdl77_nef', 'currencyqv1300_curcd', 'mdl77_2ve_av_amv', 'nws18_bam', 'mdl77_htwrgspe_amq', 'fscore_profitability', 'cshpri', 'inventory', 'fnd6_income_beforeextra', 'ocfratio', 'snt1_cored1_score', 'dfdfeditxexp', 'mdl77_ocfast', 'pv13_custretsig_retsig', 'currency', 'fnd6_ppeveb', 'mdl77_2mp_am_amv', 'mdl77_2nef', 'fnd2_dbplanactuarialgl', 'ocaxs', 'fnd6_dlcch', 'fnd2_dbplanchgbnfolintcst', 'fnd6_optprcgr', 'fnd6_fiao', 'scl12_buzz', 'anl4_detailrecv4v104_est', 'anl4_bac1conrecv110_item', 'mdl77_curratio', 'est_shequity', 'fnd6_tfvce', 'mdl77_nlvolcap', 'nip', 'fnd6_ibs', 'fnd6_ebitdm', 'est_dividend_ps', 'fnd6_xaccq', 'fnd2_dbplanepdfbnfpythree', 'fnd6_cicurr', 'fnd6_dd2', 'fnd6_gspea2y_cf', 'mdl77_rel5yocfp', 'mdl77_qsa_efficiency', 'mdl77_2ad', 'high', 'fnd6_depre_amort', 'fnd6_mibn', 'fnd6_optosey', 'txts', 'acqintan', 'est_eps', 'fnd2_dbplanepdfbnfpytwo', 'fnd6_adesinda_curcd', 'fnd6_cisecgl', 'fnd6_market', 'mdl77_2hgm_composite', 'fnd6_itci', 'anl4_fsdtlestmtsafv4_item', 'news_ratio_vol', 'fscore_quality', 'cshtr', 'mdl77_2rel5yocfp', 'ivst', 'fnd6_cld5', 'fnd6_dd', 'fnd6_cld3', 'est_capex', 'country', 'pv13_6l_scibr', 'fnd6_cashflow_op', 'est_rd_expense', 'fnd6_cptrank_gvkeymap', 'fnd6_fopox', 'invested_capital', 'est_pretaxincome', 'fnd6_sppe', 'xopr', 'mdl77_qe_av_amv', 'anl4_bac1detailqfv110_item', 'mdl77_2me_am_amv', 'fnd2_dbplanfvalpnas', 'anl4_fsdtlestmtbscv104_item', 'fnd6_pstkrv', 'fnd6_txtubposinc', 'anl4_fsdetailltv4v104_item', 'ssc', 'fnd6_income', 'spce', 'fnd6_dcvsr', 'mdl77_2min3ygrossmargin', 'mdl77_yoychggpm', 'prccq', 'mdl77_spe1yfvc_cf', 'fnd6_cstkcvq', 'shequity', 'comprehensive_income', 'fnd6_industry', 'nws18_qmb', 'fnd2_itxreclchgdfdtxava', 'mdl77_atmcallvol', 'fnd6_idit', 'acb', 'anl4_fsguidancebasicqfv4_item', 'fnd2_dfdfritxexp', 'txs', 'snt_value', 'top1000', 'fnd2_eixrtreclstatelocalitxes', 'fnd6_beta', 'est_ffo', 'anl4_guiafv4_est', 'fnd6_pretax_income', 'fnd_unrecognized_tax_benefits_a', 'fnd6_zipcode', 'fnd6_pstkc', 'fnd6_optfvgr', 'nws17_relevance', 'fnd6_cashflow_invst', 'fnd6_dd5', 'fnd6_dd1', 'teq', 'mdl77_equityto', 'fnd6_dm', 'fnd6_mibt', 'return_equity', 'fnd6_txtubsoflimit', 'fnd2_dfdtxasoprlcarryfwd', 'mdl77_gpm_composite', 'fnd6_prclq', 'ebitda', 'mdl77_rel5yfcfp', 'fnd6_nis', 'mkvalt', 'fnd6_mrc5', 'fnd6_emps', 'est_ebitda', 'anl4_dei3lqfv110_item', 'market_cap', 'mdl77_growthanalystmodel2_qga_ltepssurprise', 'fnd6_oiadps', 'working_capital', 'fnd6_ranks', 'fnd6_rd_expense', 'fnd6_dltp', 'fnd2_fn_mne_a', 'fnd6_sbcpnshardpreops', 'mdl77_ratrev6m', 'fnd6_xidos', 'txfed', 'rd_expense', 'operating_income', 'nws18_ssc', 'top3000', 'fnd6_invested_capital', 'fnd2_unrgtxbnfdecresfsttwtxpss', 'aqi', 'fnd6_spe1yfvc_cf', 'news_atr14', 'depre_amort', 'fnd6_optdrq', 'fnd6_exre', 'bookvalue_ps', 'mov_vol', 'mdl77_rel5yebitdap', 'equity', 'fnd6_dlto', 'fnd2_dfdtxlbsgwllandintas', 'fnd6_currencya_curcd', 'fnd6_txtubposdec', 'fnd6_dcvt', 'anl4_dei2lqfv110_item', 'qep', 'anl4_fsdetailrecv4v104_item', 'cstkcv', 'fnd6_fato', 'fnd6_tfvl', 'fnd6_ceql', 'fnd6_txtubadjust', 'fnd6_acqintan', 'est_sga', 'fnd6_curcddv', 'fnd6_am', 'sales_ps', 'sales', 'fnd6_dn', 'mdl77_2min1ygrossmargin', 'fnd6_txdfed', 'fnd2_currfrtxexp', 'mdl77_2chgreccast', 'fnd6_citotal', 'fnd6_reajo', 'fnd6_txndbl', 'news_pre_vwap', 'anl4_adjusted_netincome_ft', 'fnd6_nopxs', 'mdl77_rerror60m', 'mdl77_sf_av_amv', 'fnd6_txbcof', 'mdl77_2amv', 'fnd6_ocaxs', 'fnd6_equity', 'income_tax', 'currfedtxexp', 'curr_vol', 'assets_curr', 'fnd6_gdwls', 'fnd6_xsgas', 'fnd6_recta', 'fnd6_optvol', 'fnd6_interest_expense', 'news_atr_ratio', 'fnd6_intseg', 'fnd6_capxs', 'anl4_cuo1conqfv110_item', 'fnd6_netincome', 'fnd6_txdbclq', 'fnd2_itxreexftfedstyitxrt', 'mdl77_2min3yopmargin', 'news_tot_ticks', 'fnd6_fatb', 'fnd6_txo', 'fnd6_debt_lt', 'mdl77_divcov', 'news_mov_vol', 'fnd6_txdba', 'fnd6_optprcey', 'mdl77_fwdroe', 'mdl77_sighc', 'mdl77_surpriseforecastmodule', 'pv13_reportperiodlen', 'fnd6_fatp', 'anl4_hold', 'debt', 'fnd6_fopo', 'fnd6_optex', 'news_all_vwap', 'fscore_momentum', 'pv13_ompetitorgraphrank_hub_rank', 'fnd6_txtubxintis', 'fnd6_ebit', 'mdl77_saleicap', 'anl4_fsdtlestmtafv4_item', 'fnd6_revts', 'fnd6_ciother', 'fnd6_lcoxdr', 'fnd2_dbplanepdfbnfpyfour', 'assets', 'debt_lt', 'mdl77_2sf_av_amv', 'rank', 'oiadps', 'fnd6_cshr', 'ber', 'fnd6_prcl', 'fnd6_cogs', 'fnd6_dpvieb', 'mdl77_rel5ycfp', 'fnd6_gpmq', 'top500', 'fnd2_dbplanbnfol', 'ffo', 'ranks', 'fnd6_sector', 'news_low_exc_stddev', 'spis', 'fnd6_itcb', 'sharesout', 'fnd6_stype', 'fnd6_teq', 'fnd2_dfdtxastxdfdexprssaccrs', 'mdl77_25saleicap', 'fnd6_fatl', 'fnd6_xrent', 'fnd6_xacc', 'fnd6_tlcf', 'mdl77_chgnoa', 'fnd6_naicss', 'news_curr_vol', 'fnd6_xopr', 'mdl77_2min2yopmargin', 'mdl77_chgollev', 'fnd6_sstk', 'fnd6_pnrsho', 'volume', 'fnd6_salexg', 'fnd6_donr', 'est_ptpr', 'liabilities_curr', 'fnd6_est_eps', 'fnd6_incorp', 'fnd6_esopnr', 'fnd6_stkcpa', 'anl4_bac1detailafv110_item', 'fnd6_dd4', 'fnd6_dudd', 'fnd6_ebitfr', 'mdl77_2pelh_cf', 'news_cap', 'anl4_flag_erbfintax', 'fnd6_ptis', 'fnd2_propplteqflublgland', 'fnd6_fc_y2repsg', 'fnd6_esopct', 'fnd2_unrgtxbnfinregfprtxps', 'fnd6_mrc3', 'mdl77_ccacw', 'fnd6_cash', 'mdl77_actrtn1m', 'ibmii', 'fnd6_nopio', 'mdl77_2mrspe_cf', 'fnd6_shequity', 'fnd6_sales', 'fnd6_mrc1', 'ibs', 'fnd2_dfdtxlbspropplteqm', 'anl4_tbve_ft', 'fnd6_txdbca', 'cshr', 'anl4_cuo1detailafv110_item', 'mdl77_2over', 'fnd6_ops', 'fnd6_lno', 'fnd2_unrgtxbnfdecresfsttwtxauth', 'mdl77_netcashp', 'fnd6_invrm', 'fnd2_asdm', 'fnd6_xpp', 'fnd6_weburl', 'fnd6_xad', 'cashflow_op', 'txndbr', 'mdl77_2pe_wt', 'news_post_vwap', 'fnd6_txts', 'fnd6_optprcby', 'fnd6_txs', 'fnd6_optrfr', 'fnd6_reportperiodlen', 'assets_turnover', 'dividend', 'fnd6_assets', 'goodwill', 'niadj', 'mdl77_min2ygrossmargin', 'optex', 'news_range_stddev', 'cashflow_fin', 'naicss', 'eps', 'pv13_reportperiodend', 'fnd6_optgr', 'close_vol', 'pv13_4l_scibr', 'fnd6_dilavx', 'pifo', 'fnd6_ivst', 'capex', 'fnd6_fatn', 'cashflow_invst', 'fnd6_optvolq', 'nws18_qcm', 'fnd6_txfed', 'anl4_ffo_flag', 'fnd6_dd3', 'news_eps_actual', 'fnd2_dfdlocalitxexp', 'sedol', 'est_tbv_ps', 'fnd6_cipen', 'currfrtxexp', 'fnd6_txndba', 'mdl77_2capacq', 'fnd6_txbco', 'fnd6_city', 'anl4_fsdtlestmtqfv4_item', 'mdl77_lumqca', 'pidom', 'fnd2_ebitdm', 'fnd6_country', 'current_ratio', 'nws18_sse', 'news_indx_perf', 'retained_earnings', 'fnd6_dcpstk', 'fnd6_optlifeq', 'fnd6_cld2', 'nws18_bee', 'fnd6_totalcov', 'fnd6_esubs', 'fnd6_optca', 'mdl77_rsqr4qsales3y', 'fnd6_pncepsq', 'fnd6_sivaco', 'fnd6_ci', 'mdl77_astcomp', 'mdl77_2pricemomemtummodel2_indrelrtn5d_', 'fnd6_esubc', 'fnd6_tstkc', 'inventory_turnover', 'fnd6_txndbr', 'fnd6_intc', 'mdl77_2min2ygrossmargin', 'pnrsho', 'mdl77_2htwrgspe_amq', 'mdl77_earningsqualitymodule', 'equityto', 'fnd2_dbplanepdfbnfpy5', 'mdl77_2am_amv', 'fnd6_currencyqv1300_curcd', 'fnd6_subindustry', 'mdl77_25rel5ycoreepsp', 'fnd2_propplteqmuflmblgland', 'fnd6_reportperiodend', 'fnd6_acox', 'nis', 'fnd6_optprcca', 'mdl77_2fc_y2repsg', 'fnd2_itxreclstatelocalitxes', 'mdl77_2av_amv', 'fnd6_mrc2', 'anl4_tot_gw_ft', 'mdl77_chgsgasale', 'mdl77_emmcomposite_emm_composite', 'anl4_guibasicqfv4_est', 'fnd6_cshtr', 'fnd6_working_capital', 'fnd6_invo', 'fnd6_xpr', 'fn_unrecognized_tax_benefits_a', 'pretax_income', 'vwap', 'fnd6_acqgdwl', 'fnd6_rank', 'fnd6_sppiv', 'interest_expense', 'nws18_relevance', 'mdl77_2gpm_composite', 'oibdps', 'curcddv', 'pv13_reporttype', 'fnd6_divd', 'sales_growth', 'fnd6_prstkc', 'fnd6_cimii', 'fnd6_oelim', 'mdl77_2rel5ycoreepsp', 'fnd2_currfedtxexp', 'open', 'fnd6_loc', 'txbco', 'mibn', 'mdl77_pfcoghc', 'fnd6_sga_expense', 'capxs', 'fnd2_propplteqmuflmfrt', 'news_short_interest', 'fnd6_np', 'exre', 'bee', 'income', 'fnd6_sics', 'fnd6_dd1q', 'fnd2_dbplanepdfbnfpnext12m', 'mdl77_2fwdroe', 'msa', 'operating_expense', 'mdl77_hgm_composite', 'fnd6_fyrc', 'est_epsr', 'anl4_dei3lltv110_item', 'mdl77_2min1yopmargin', 'fnd6_cashflow_fin', 'fnd6_recco', 'fnd6_capxv', 'fnd6_intan', 'fnd6_txtubbegin']\n"
     ]
    }
   ],
   "source": [
    "# Danh sách chứa các nhóm đã gộp\n",
    "merged_groups = []\n",
    "\n",
    "for current in similar_data['full']:\n",
    "    found = False\n",
    "    for group in merged_groups:\n",
    "        if set(current) & set(group):  # có phần tử trùng\n",
    "            group.update(current)\n",
    "            found = True\n",
    "            break\n",
    "    if not found:\n",
    "        merged_groups.append(set(current))\n",
    "\n",
    "# Hợp nhất các nhóm trùng nhau nhiều lần (vì có thể bị tách lẻ)\n",
    "def merge_all(groups):\n",
    "    changed = True\n",
    "    while changed:\n",
    "        changed = False\n",
    "        new_groups = []\n",
    "        while groups:\n",
    "            first, *rest = groups\n",
    "            first = set(first)\n",
    "            merged = True\n",
    "            while merged:\n",
    "                merged = False\n",
    "                rest2 = []\n",
    "                for g in rest:\n",
    "                    if first & g:\n",
    "                        first |= g\n",
    "                        merged = True\n",
    "                        changed = True\n",
    "                    else:\n",
    "                        rest2.append(g)\n",
    "                rest = rest2\n",
    "            new_groups.append(first)\n",
    "            groups = rest\n",
    "        groups = new_groups\n",
    "    return [list(g) for g in groups]\n",
    "\n",
    "# Kết quả\n",
    "final_groups = merge_all(merged_groups)\n",
    "\n",
    "# In ra\n",
    "for group in final_groups:\n",
    "    print(group)"
   ]
  },
  {
   "cell_type": "markdown",
   "id": "5c860b07",
   "metadata": {},
   "source": [
    "# 2. Nhóm theo word"
   ]
  },
  {
   "cell_type": "code",
   "execution_count": 14,
   "id": "48f7bd66",
   "metadata": {},
   "outputs": [],
   "source": [
    "import pandas as pd"
   ]
  },
  {
   "cell_type": "code",
   "execution_count": 17,
   "id": "9f5b5908",
   "metadata": {},
   "outputs": [],
   "source": [
    "df=pd.read_excel('D:/Project/Project 09 - finding alpha/Auto_alpha/datafields.xlsx')"
   ]
  },
  {
   "cell_type": "code",
   "execution_count": 24,
   "id": "c53f6685",
   "metadata": {},
   "outputs": [],
   "source": [
    "#phân tích từ\n",
    "df['one_word']=df['id'].apply(lambda row : row.split('_')[0] if '_' in row else row )\n",
    "df['two_word']=df['id'].apply(lambda row : '_'.join(row.split('_')[:2]) if '_' in row else row )\n",
    "df['three_word']=df['id'].apply(lambda row : '_'.join(row.split('_')[:3]) if '_' in row else row )"
   ]
  },
  {
   "cell_type": "code",
   "execution_count": 31,
   "id": "19235adb",
   "metadata": {},
   "outputs": [],
   "source": [
    "#kiểm tra độ dài của group\n",
    "df['len_group_two']=df.groupby('two_word')['two_word'].transform('count')\n",
    "df['len_group_three']=df.groupby('three_word')['three_word'].transform('count')"
   ]
  },
  {
   "cell_type": "code",
   "execution_count": null,
   "id": "b3d21656",
   "metadata": {},
   "outputs": [],
   "source": [
    "#tạo tên nhóm dựa vào số phần tử trong group\n",
    "df['group']=df.apply(lambda row: row['three_word'] if row['len_group_three'] > 1 else row['two_word'],axis=1)"
   ]
  },
  {
   "cell_type": "code",
   "execution_count": 42,
   "id": "6701cc5d",
   "metadata": {},
   "outputs": [],
   "source": [
    "#tính toán các phần tử trong group\n",
    "df['len_group']=df.groupby('group')['group'].transform('count')"
   ]
  },
  {
   "cell_type": "code",
   "execution_count": 46,
   "id": "12aadc12",
   "metadata": {},
   "outputs": [],
   "source": [
    "#lọc lấy tên nhóm số phần tử = 1\n",
    "df_not_group=df[df['len_group']==1]\n",
    "df_not_group.to_excel('data_not_group.xlsx')"
   ]
  },
  {
   "cell_type": "code",
   "execution_count": 47,
   "id": "22d9148d",
   "metadata": {},
   "outputs": [],
   "source": [
    "#lọc lấy tên nhóm số phần tử > 1\n",
    "df_group=df[df['len_group']>1]\n",
    "df_group.to_excel('data_group.xlsx')"
   ]
  },
  {
   "cell_type": "code",
   "execution_count": 48,
   "id": "2a9800ea",
   "metadata": {},
   "outputs": [
    {
     "data": {
      "text/plain": [
       "Index(['id', 'description', 'dataset', 'category', 'subcategory', 'region',\n",
       "       'delay', 'universe', 'type', 'coverage', 'userCount', 'alphaCount',\n",
       "       'themes', 'one_word', 'two_word', 'three_word', 'len_group_three',\n",
       "       'len_group_two', 'group', 'len_group'],\n",
       "      dtype='object')"
      ]
     },
     "execution_count": 48,
     "metadata": {},
     "output_type": "execute_result"
    }
   ],
   "source": [
    "df_not_group.columns"
   ]
  },
  {
   "cell_type": "code",
   "execution_count": 49,
   "id": "34938ba4",
   "metadata": {},
   "outputs": [],
   "source": [
    "df_not_group=df_not_group[['id','description']]"
   ]
  },
  {
   "cell_type": "code",
   "execution_count": 51,
   "id": "d3a823b2",
   "metadata": {},
   "outputs": [],
   "source": [
    "df_not_group.to_json('not_group.json',orient='records',force_ascii=False,indent=2)"
   ]
  },
  {
   "cell_type": "code",
   "execution_count": null,
   "id": "81e1d1a3",
   "metadata": {},
   "outputs": [],
   "source": []
  }
 ],
 "metadata": {
  "kernelspec": {
   "display_name": "env_test_v2",
   "language": "python",
   "name": "python3"
  },
  "language_info": {
   "codemirror_mode": {
    "name": "ipython",
    "version": 3
   },
   "file_extension": ".py",
   "mimetype": "text/x-python",
   "name": "python",
   "nbconvert_exporter": "python",
   "pygments_lexer": "ipython3",
   "version": "3.10.0"
  }
 },
 "nbformat": 4,
 "nbformat_minor": 5
}
